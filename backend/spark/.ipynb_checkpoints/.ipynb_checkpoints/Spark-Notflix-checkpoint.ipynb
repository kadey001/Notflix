{
 "cells": [
  {
   "cell_type": "code",
   "execution_count": 1,
   "metadata": {},
   "outputs": [],
   "source": [
    "from pyspark.sql import SparkSession, Row, Column as Col, functions as F\n",
    "from pyspark.sql.types import BooleanType\n",
    "from pyspark import SparkConf, SparkContext"
   ]
  },
  {
   "cell_type": "code",
   "execution_count": 2,
   "metadata": {},
   "outputs": [],
   "source": [
    "import os\n",
    "os.environ['SPARK_HOME'] = '/opt/spark'\n",
    "os.environ['PYSPARK_PYTHON'] = '/usr/bin/python3'\n",
    "os.environ['PYSPARK_DRIVER_PYTHON'] = '/usr/bin/python3'"
   ]
  },
  {
   "cell_type": "code",
   "execution_count": 3,
   "metadata": {},
   "outputs": [],
   "source": [
    "from flask import Flask, request\n",
    "from flask_restful import Api, Resource"
   ]
  },
  {
   "cell_type": "code",
   "execution_count": 4,
   "metadata": {},
   "outputs": [],
   "source": [
    "app = Flask(__name__)\n",
    "api = Api(app)"
   ]
  },
  {
   "cell_type": "code",
   "execution_count": 20,
   "metadata": {},
   "outputs": [],
   "source": [
    "@app.route('/')\n",
    "def hello_world():\n",
    "    return 'Hello, World!'"
   ]
  },
  {
   "cell_type": "code",
   "execution_count": 5,
   "metadata": {},
   "outputs": [],
   "source": [
    "spark_conf = SparkConf().setMaster('local').setAppName('Notflix')"
   ]
  },
  {
   "cell_type": "code",
   "execution_count": 6,
   "metadata": {},
   "outputs": [
    {
     "name": "stdout",
     "output_type": "stream",
     "text": [
      "<SparkContext master=local appName=Notflix>\n"
     ]
    }
   ],
   "source": [
    "sc = SparkContext.getOrCreate(spark_conf)\n",
    "print(sc)"
   ]
  },
  {
   "cell_type": "code",
   "execution_count": 7,
   "metadata": {},
   "outputs": [],
   "source": [
    "spark = SparkSession.builder.config(conf=spark_conf).getOrCreate()"
   ]
  },
  {
   "cell_type": "code",
   "execution_count": 8,
   "metadata": {},
   "outputs": [
    {
     "name": "stdout",
     "output_type": "stream",
     "text": [
      "<pyspark.sql.session.SparkSession object at 0x7f05ac59efd0>\n"
     ]
    }
   ],
   "source": [
    "print(spark)"
   ]
  },
  {
   "cell_type": "code",
   "execution_count": 9,
   "metadata": {},
   "outputs": [],
   "source": [
    "infoDF = spark.read.csv('hdfs:///home/test.csv', header=True, inferSchema=True)"
   ]
  },
  {
   "cell_type": "code",
   "execution_count": 11,
   "metadata": {},
   "outputs": [
    {
     "name": "stdout",
     "output_type": "stream",
     "text": [
      "+---+-----+------+-----+\n",
      "|vid|liked|viewed| list|\n",
      "+---+-----+------+-----+\n",
      "|  0| true|  true|false|\n",
      "|  1| true|  true| true|\n",
      "|  2|false|  true|false|\n",
      "|  3|false|  true| true|\n",
      "|  4|false| false| true|\n",
      "+---+-----+------+-----+\n",
      "\n"
     ]
    }
   ],
   "source": [
    "infoDF.show()"
   ]
  },
  {
   "cell_type": "code",
   "execution_count": 72,
   "metadata": {},
   "outputs": [
    {
     "name": "stdout",
     "output_type": "stream",
     "text": [
      "root\n",
      " |-- vid: integer (nullable = true)\n",
      " |-- liked: boolean (nullable = true)\n",
      " |-- viewed: boolean (nullable = true)\n",
      " |-- list: boolean (nullable = true)\n",
      "\n"
     ]
    }
   ],
   "source": [
    "infoDF.printSchema()"
   ]
  },
  {
   "cell_type": "code",
   "execution_count": 10,
   "metadata": {},
   "outputs": [],
   "source": [
    "def saveProfileInfo(result, profile_path):\n",
    "    result.coalesce(1).write.format('csv').save(f'{profile_path}/info', header=True, mode='overwrite')\n",
    "    os.system(f'hdfs dfs -rm {profile_path}/info.csv')\n",
    "    os.system(f'hdfs dfs -cp {profile_path}/info/p* {profile_path}/info.csv')"
   ]
  },
  {
   "cell_type": "code",
   "execution_count": 11,
   "metadata": {},
   "outputs": [],
   "source": [
    "def likeVideo(uid, profile, vid):\n",
    "    profile_path = f'/home/users/{uid}/profiles/{profile}'\n",
    "    # Get Dataframe\n",
    "    infoDF = spark.read.csv(f'{profile_path}/info.csv', header=True, inferSchema=True)\n",
    "    infoDF.show()\n",
    "    infoDF.createOrReplaceTempView('info')\n",
    "    # Get vid row\n",
    "    sql_results = spark.sql(f'SELECT * FROM info WHERE vid = {vid}')\n",
    "    if len(sql_results.take(1)) == 0: # No existing entry for the vid\n",
    "        columns = ['vid', 'liked', 'viewed', 'list']\n",
    "        sql_results = spark.createDataFrame([(vid, True, False, False)], columns)\n",
    "    else:\n",
    "        infoDF = infoDF.rdd.filter(lambda x: x.vid != vid).toDF()\n",
    "        sql_results = sql_results.withColumn('liked', F.regexp_replace('liked', 'false', 'true'))\n",
    "        sql_results = sql_results.withColumn('liked', F.col('liked').cast('boolean'))\n",
    "    result = infoDF.union(sql_results)\n",
    "    result.show()\n",
    "    saveProfileInfo(result, profile_path)"
   ]
  },
  {
   "cell_type": "code",
   "execution_count": 12,
   "metadata": {},
   "outputs": [
    {
     "name": "stdout",
     "output_type": "stream",
     "text": [
      "+---+-----+------+-----+\n",
      "|vid|liked|viewed| list|\n",
      "+---+-----+------+-----+\n",
      "|  1| true|  true| true|\n",
      "|  2|false|  true|false|\n",
      "|  3|false|  true| true|\n",
      "|  0| true|  true|false|\n",
      "|  5| true| false|false|\n",
      "|  4|false|  true| true|\n",
      "+---+-----+------+-----+\n",
      "\n",
      "+---+-----+------+-----+\n",
      "|vid|liked|viewed| list|\n",
      "+---+-----+------+-----+\n",
      "|  1| true|  true| true|\n",
      "|  2|false|  true|false|\n",
      "|  3|false|  true| true|\n",
      "|  0| true|  true|false|\n",
      "|  4|false|  true| true|\n",
      "|  5| true| false|false|\n",
      "+---+-----+------+-----+\n",
      "\n"
     ]
    }
   ],
   "source": [
    "likeVideo(0, 'test', 5)"
   ]
  },
  {
   "cell_type": "code",
   "execution_count": 13,
   "metadata": {
    "scrolled": true
   },
   "outputs": [],
   "source": [
    "def dislikeVideo(uid, profile, vid):\n",
    "    profile_path = f'/home/users/{uid}/profiles/{profile}'\n",
    "    # Get Dataframe\n",
    "    infoDF = spark.read.csv(f'{profile_path}/info.csv', header=True, inferSchema=True)\n",
    "    infoDF.show()\n",
    "    infoDF.createOrReplaceTempView('info')\n",
    "    # Get vid row\n",
    "    sql_results = spark.sql(f'SELECT * FROM info WHERE vid = {vid}')\n",
    "    if len(sql_results.take(1)) == 0: # No existing entry for the vid\n",
    "        columns = ['vid', 'liked', 'viewed', 'list']\n",
    "        sql_results = spark.createDataFrame([(vid, False, False, False)], columns)\n",
    "    else:\n",
    "        infoDF = infoDF.rdd.filter(lambda x: x.vid != vid).toDF()\n",
    "        sql_results = sql_results.withColumn('liked', F.regexp_replace('liked', 'true', 'false'))\n",
    "        sql_results = sql_results.withColumn('liked', F.col('liked').cast('boolean'))\n",
    "    result = infoDF.union(sql_results)\n",
    "    result.show()\n",
    "    saveProfileInfo(result, profile_path)"
   ]
  },
  {
   "cell_type": "code",
   "execution_count": 229,
   "metadata": {},
   "outputs": [
    {
     "name": "stdout",
     "output_type": "stream",
     "text": [
      "+---+-----+------+-----+\n",
      "|vid|liked|viewed| list|\n",
      "+---+-----+------+-----+\n",
      "|  1| true|  true| true|\n",
      "|  2|false|  true|false|\n",
      "|  3|false|  true| true|\n",
      "|  0| true|  true|false|\n",
      "|  4|false|  true| true|\n",
      "|  5| true| false|false|\n",
      "+---+-----+------+-----+\n",
      "\n",
      "+---+-----+------+-----+\n",
      "|vid|liked|viewed| list|\n",
      "+---+-----+------+-----+\n",
      "|  1| true|  true| true|\n",
      "|  2|false|  true|false|\n",
      "|  3|false|  true| true|\n",
      "|  0| true|  true|false|\n",
      "|  4|false|  true| true|\n",
      "|  5|false| false|false|\n",
      "+---+-----+------+-----+\n",
      "\n"
     ]
    }
   ],
   "source": [
    "dislikeVideo(0, 'test', 5)"
   ]
  },
  {
   "cell_type": "code",
   "execution_count": 14,
   "metadata": {},
   "outputs": [],
   "source": [
    "def getLikedVideos(uid, profile):\n",
    "    profile_path = f'/home/users/{uid}/profiles/{profile}'\n",
    "    # Get Dataframe\n",
    "    infoDF = spark.read.csv(f'{profile_path}/info.csv', header=True, inferSchema=True)\n",
    "    infoDF.show()\n",
    "    infoDF.createOrReplaceTempView('info')\n",
    "    # Get vid row\n",
    "    sql_results = spark.sql(f'SELECT * FROM info WHERE liked = true')\n",
    "    sql_results.show()\n",
    "    vids = [int(row.vid) for row in sql_results.collect()]\n",
    "    return vids"
   ]
  },
  {
   "cell_type": "code",
   "execution_count": 216,
   "metadata": {},
   "outputs": [
    {
     "name": "stdout",
     "output_type": "stream",
     "text": [
      "+---+-----+------+-----+\n",
      "|vid|liked|viewed| list|\n",
      "+---+-----+------+-----+\n",
      "|  1| true|  true| true|\n",
      "|  2|false|  true|false|\n",
      "|  3|false|  true| true|\n",
      "|  4|false| false| true|\n",
      "|  0| true|  true|false|\n",
      "|  5|false| false|false|\n",
      "+---+-----+------+-----+\n",
      "\n",
      "+---+-----+------+-----+\n",
      "|vid|liked|viewed| list|\n",
      "+---+-----+------+-----+\n",
      "|  1| true|  true| true|\n",
      "|  0| true|  true|false|\n",
      "+---+-----+------+-----+\n",
      "\n",
      "[1, 0]\n"
     ]
    }
   ],
   "source": [
    "vids = getLikedVideos(0, 'test')\n",
    "print(vids)"
   ]
  },
  {
   "cell_type": "code",
   "execution_count": 15,
   "metadata": {},
   "outputs": [],
   "source": [
    "def viewVideo(uid, profile, vid):\n",
    "    profile_path = f'/home/users/{uid}/profiles/{profile}'\n",
    "    # Get Dataframe\n",
    "    infoDF = spark.read.csv(f'{profile_path}/info.csv', header=True, inferSchema=True)\n",
    "    infoDF.show()\n",
    "    infoDF.createOrReplaceTempView('info')\n",
    "    # Get vid row\n",
    "    sql_results = spark.sql(f'SELECT * FROM info WHERE vid = {vid}')\n",
    "    if len(sql_results.take(1)) == 0: # No existing entry for the vid\n",
    "        columns = ['vid', 'liked', 'viewed', 'list']\n",
    "        sql_results = spark.createDataFrame([(vid, False, True, False)], columns)\n",
    "    else:\n",
    "        infoDF = infoDF.rdd.filter(lambda x: x.vid != vid).toDF()\n",
    "        sql_results = sql_results.withColumn('viewed', F.regexp_replace('viewed', 'false', 'true'))\n",
    "        sql_results = sql_results.withColumn('viewed', F.col('viewed').cast('boolean'))\n",
    "    result = infoDF.union(sql_results)\n",
    "    result.show()\n",
    "    saveProfileInfo(result, profile_path)"
   ]
  },
  {
   "cell_type": "code",
   "execution_count": 233,
   "metadata": {},
   "outputs": [
    {
     "name": "stdout",
     "output_type": "stream",
     "text": [
      "+---+-----+------+-----+\n",
      "|vid|liked|viewed| list|\n",
      "+---+-----+------+-----+\n",
      "|  1| true|  true| true|\n",
      "|  2|false|  true|false|\n",
      "|  3|false|  true| true|\n",
      "|  0| true|  true|false|\n",
      "|  4|false|  true| true|\n",
      "|  5| true| false|false|\n",
      "+---+-----+------+-----+\n",
      "\n",
      "+---+-----+------+-----+\n",
      "|vid|liked|viewed| list|\n",
      "+---+-----+------+-----+\n",
      "|  1| true|  true| true|\n",
      "|  2|false|  true|false|\n",
      "|  3|false|  true| true|\n",
      "|  0| true|  true|false|\n",
      "|  5| true| false|false|\n",
      "|  4|false|  true| true|\n",
      "+---+-----+------+-----+\n",
      "\n"
     ]
    }
   ],
   "source": [
    "viewVideo(0, 'test', 4)"
   ]
  },
  {
   "cell_type": "code",
   "execution_count": 16,
   "metadata": {},
   "outputs": [],
   "source": [
    "def addToList(uid, profile, vid):\n",
    "    profile_path = f'hdfs:///home/users/{uid}/profiles/{profile}'\n",
    "    # Get Dataframe\n",
    "    infoDF = spark.read.csv(f'{profile_path}/info.csv', header=True, inferSchema=True)\n",
    "    infoDF.show()\n",
    "    infoDF.createOrReplaceTempView('info')\n",
    "    # Get vid row\n",
    "    sql_results = spark.sql(f'SELECT * FROM info WHERE vid = {vid}')\n",
    "    if len(sql_results.take(1)) == 0: # No existing entry for the vid\n",
    "        columns = ['vid', 'liked', 'viewed', 'list']\n",
    "        sql_results = spark.createDataFrame([(vid, False, False, True)], columns)\n",
    "    else:\n",
    "        infoDF = infoDF.rdd.filter(lambda x: x.vid != vid).toDF()\n",
    "        sql_results = sql_results.withColumn('list', F.regexp_replace('list', 'false', 'true'))\n",
    "        sql_results = sql_results.withColumn('list', F.col('viewed').cast('boolean'))\n",
    "    result = infoDF.union(sql_results)\n",
    "    result.show()\n",
    "    saveProfileInfo(result, profile_path)"
   ]
  },
  {
   "cell_type": "code",
   "execution_count": null,
   "metadata": {},
   "outputs": [],
   "source": [
    "@app.route('/')"
   ]
  },
  {
   "cell_type": "code",
   "execution_count": 17,
   "metadata": {},
   "outputs": [],
   "source": [
    "class HelloWorld(Resource):\n",
    "    def get(self, uid, profile):\n",
    "        return getLikedVideos(uid, profile)\n",
    "api.add_resource(HelloWorld, '/hello/<int:uid>/<string:profile>')"
   ]
  },
  {
   "cell_type": "code",
   "execution_count": null,
   "metadata": {},
   "outputs": [
    {
     "name": "stdout",
     "output_type": "stream",
     "text": [
      " * Serving Flask app \"__main__\" (lazy loading)\n",
      " * Environment: production\n",
      "\u001b[31m   WARNING: This is a development server. Do not use it in a production deployment.\u001b[0m\n",
      "\u001b[2m   Use a production WSGI server instead.\u001b[0m\n",
      " * Debug mode: off\n"
     ]
    },
    {
     "name": "stderr",
     "output_type": "stream",
     "text": [
      " * Running on http://127.0.0.1:5000/ (Press CTRL+C to quit)\n"
     ]
    },
    {
     "name": "stdout",
     "output_type": "stream",
     "text": [
      "+---+-----+------+-----+\n",
      "|vid|liked|viewed| list|\n",
      "+---+-----+------+-----+\n",
      "|  1| true|  true| true|\n",
      "|  2|false|  true|false|\n",
      "|  3|false|  true| true|\n",
      "|  0| true|  true|false|\n",
      "|  4|false|  true| true|\n",
      "|  5| true| false|false|\n",
      "+---+-----+------+-----+\n",
      "\n",
      "+---+-----+------+-----+\n",
      "|vid|liked|viewed| list|\n",
      "+---+-----+------+-----+\n",
      "|  1| true|  true| true|\n",
      "|  0| true|  true|false|\n",
      "|  5| true| false|false|\n",
      "+---+-----+------+-----+\n",
      "\n"
     ]
    },
    {
     "name": "stderr",
     "output_type": "stream",
     "text": [
      "127.0.0.1 - - [20/Nov/2020 06:19:32] \"\u001b[37mGET /hello/0/test HTTP/1.1\u001b[0m\" 200 -\n"
     ]
    }
   ],
   "source": [
    "if __name__ == '__main__':\n",
    "    app.run(debug=False)"
   ]
  },
  {
   "cell_type": "code",
   "execution_count": null,
   "metadata": {},
   "outputs": [],
   "source": []
  }
 ],
 "metadata": {
  "kernelspec": {
   "display_name": "Python 3",
   "language": "python",
   "name": "python3"
  },
  "language_info": {
   "codemirror_mode": {
    "name": "ipython",
    "version": 3
   },
   "file_extension": ".py",
   "mimetype": "text/x-python",
   "name": "python",
   "nbconvert_exporter": "python",
   "pygments_lexer": "ipython3",
   "version": "3.6.8"
  }
 },
 "nbformat": 4,
 "nbformat_minor": 4
}
